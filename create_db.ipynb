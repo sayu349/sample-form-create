{
 "cells": [
  {
   "cell_type": "markdown",
   "metadata": {},
   "source": [
    "## dbを作り直したいときに利用します\n",
    "- dbの中身は、VScodeの拡張機能「SQLite Viewer」とかで確認してください。"
   ]
  },
  {
   "cell_type": "code",
   "execution_count": 1,
   "metadata": {},
   "outputs": [
    {
     "name": "stdout",
     "output_type": "stream",
     "text": [
      "データベースの作成に成功しました。\n"
     ]
    }
   ],
   "source": [
    "import sqlite3\n",
    "\n",
    "try:\n",
    "    con = sqlite3.connect('database/form.db')\n",
    "    cur = con.cursor()\n",
    "    cur.execute(\"CREATE TABLE form (name text, company text, tel text, email text, inquiry text, note text)\")\n",
    "except sqlite3.Error as e:\n",
    "    # エラー発生時の対応(1)：データベース作成時のエラーを出力\n",
    "    print(f\"データベースエラー：{e}\")\n",
    "except Exception as e:\n",
    "    # エラー発生時の対応(2)：それ以外エラーのを出力\n",
    "    print(f\"予期せぬエラーが発生しました：{e}\")\n",
    "else:\n",
    "    # 上手くいった場合\n",
    "    print(\"データベースの作成に成功しました。\")\n",
    "finally:\n",
    "    # 上手くいっても行かなくてもcloseする\n",
    "    con.close()"
   ]
  },
  {
   "cell_type": "code",
   "execution_count": null,
   "metadata": {},
   "outputs": [],
   "source": []
  }
 ],
 "metadata": {
  "kernelspec": {
   "display_name": "base",
   "language": "python",
   "name": "python3"
  },
  "language_info": {
   "codemirror_mode": {
    "name": "ipython",
    "version": 3
   },
   "file_extension": ".py",
   "mimetype": "text/x-python",
   "name": "python",
   "nbconvert_exporter": "python",
   "pygments_lexer": "ipython3",
   "version": "3.11.5"
  }
 },
 "nbformat": 4,
 "nbformat_minor": 2
}
